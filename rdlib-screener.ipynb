{
 "cells": [
  {
   "cell_type": "markdown",
   "id": "77c1cabb-7874-4759-873b-61e1c0c95711",
   "metadata": {},
   "source": [
    "----\n",
    "\n",
    "\n",
    "# Data Library for Python\n",
    "\n",
    "----\n",
    "## Access layer - Screeners\n",
    "This notebook demonstrates how to use the Screener object of the Access layer in conjunction with get_data, get_history and pricing streams.\n",
    "#### Learn more\n",
    "\n",
    "To learn more about the Refinitiv Data Library for Python please join the Refinitiv Developer Community. By [registering](https://developers.refinitiv.com/iam/register) and [logging](https://developers.refinitiv.com/content/devportal/en_us/initCookie.html) into the Refinitiv Developer Community portal you will have free access to a number of learning materials like \n",
    " [Quick Start guides](https://developers.refinitiv.com/en/api-catalog/refinitiv-data-platform/refinitiv-data-library-for-python/quick-start), \n",
    " [Tutorials](https://developers.refinitiv.com/en/api-catalog/refinitiv-data-platform/refinitiv-data-library-for-python/learning), \n",
    " [Documentation](https://developers.refinitiv.com/en/api-catalog/refinitiv-data-platform/refinitiv-data-library-for-python/docs)\n",
    " and much more.\n",
    "\n",
    "#### Getting Help and Support\n",
    "\n",
    "If you have any questions regarding using the API, please post them on \n",
    "the [Refinitiv Data Q&A Forum](https://community.developers.refinitiv.com/spaces/321/index.html). \n",
    "The Refinitiv Developer Community will be happy to help. \n",
    "\n",
    "----"
   ]
  },
  {
   "cell_type": "markdown",
   "id": "eabe35dd-42db-4cd8-b276-4079950769d1",
   "metadata": {},
   "source": [
    "## Some Imports to start with"
   ]
  },
  {
   "cell_type": "code",
   "execution_count": 2,
   "id": "96fe81ca-30cc-4f9d-9a66-e8e316fed2df",
   "metadata": {},
   "outputs": [],
   "source": [
    "import refinitiv.data as rd\n",
    "from refinitiv.data.discovery import Screener"
   ]
  },
  {
   "cell_type": "markdown",
   "id": "c7a7fbe5-fd6b-40a7-9458-bdc0419849ae",
   "metadata": {},
   "source": [
    "## Open the data session\n",
    "\n",
    "The open_session() function creates and open sessions based on the information contained in the refinitiv-data.config.json configuration file. Please edit this file to set the session type and other parameters required for the session you want to open."
   ]
  },
  {
   "cell_type": "code",
   "execution_count": 3,
   "id": "a087ac6e-0175-4550-9a47-2a70b9fd6555",
   "metadata": {},
   "outputs": [
    {
     "data": {
      "text/plain": [
       "<refinitiv.data.session.Definition object at 0x7f5ca49e6550 {name='codebook'}>"
      ]
     },
     "execution_count": 3,
     "metadata": {},
     "output_type": "execute_result"
    }
   ],
   "source": [
    "rd.open_session()"
   ]
  },
  {
   "cell_type": "markdown",
   "id": "81e5791e-7e4d-4e8c-a2f6-931ee05f0b7e",
   "metadata": {},
   "source": [
    "## Retrieve data\n",
    "**Note:** refer to the Screener app of Refinitiv Workspace to build the screening expression you need."
   ]
  },
  {
   "cell_type": "code",
   "execution_count": 4,
   "id": "520df861-1218-49e1-886d-62ff3ba6c626",
   "metadata": {},
   "outputs": [],
   "source": [
    "rics = Screener('U(IN(Equity(active,public,primary))/*UNV:Public*/), TR.CompanyMarketCap(Scale=6)>=5000, IN(TR.ExchangeMarketIdCode,\"XNYS\"), IN(TR.TRBCBusinessSectorCode,\"5010\",\"5020\",\"5030\"), TR.TotalReturn3Mo>=15, CURN=USD')"
   ]
  },
  {
   "cell_type": "markdown",
   "id": "8311f17f-8b46-4298-9280-f57b8c1a4bde",
   "metadata": {},
   "source": [
    "### Print the screened instruments"
   ]
  },
  {
   "cell_type": "code",
   "execution_count": 5,
   "id": "18bf413e-d7cc-4a0f-8d15-8699503702e2",
   "metadata": {},
   "outputs": [
    {
     "name": "stdout",
     "output_type": "stream",
     "text": [
      "['TPL.N', 'TRGP.N', 'MUSA.N']\n"
     ]
    }
   ],
   "source": [
    "print(list(rics))"
   ]
  },
  {
   "cell_type": "markdown",
   "id": "c89407ac-1ff8-4dec-a18d-2a9030b95c80",
   "metadata": {},
   "source": [
    "### Use the screener with get_data()"
   ]
  },
  {
   "cell_type": "code",
   "execution_count": 6,
   "id": "ba6a7b0e-408a-4bdc-b041-b34864fcfe4f",
   "metadata": {},
   "outputs": [
    {
     "data": {
      "text/html": [
       "<div>\n",
       "<style scoped>\n",
       "    .dataframe tbody tr th:only-of-type {\n",
       "        vertical-align: middle;\n",
       "    }\n",
       "\n",
       "    .dataframe tbody tr th {\n",
       "        vertical-align: top;\n",
       "    }\n",
       "\n",
       "    .dataframe thead th {\n",
       "        text-align: right;\n",
       "    }\n",
       "</style>\n",
       "<table border=\"1\" class=\"dataframe\">\n",
       "  <thead>\n",
       "    <tr style=\"text-align: right;\">\n",
       "      <th></th>\n",
       "      <th>Instrument</th>\n",
       "      <th>Company Common Name</th>\n",
       "      <th>Company Market Cap</th>\n",
       "      <th>Exchange Name</th>\n",
       "      <th>TRBC Business Sector Name</th>\n",
       "      <th>3 Month Total Return</th>\n",
       "    </tr>\n",
       "  </thead>\n",
       "  <tbody>\n",
       "    <tr>\n",
       "      <th>0</th>\n",
       "      <td>TPL.N</td>\n",
       "      <td>Texas Pacific Land Corp</td>\n",
       "      <td>17769.241435</td>\n",
       "      <td>NEW YORK STOCK EXCHANGE, INC.</td>\n",
       "      <td>Energy - Fossil Fuels</td>\n",
       "      <td>37.395096</td>\n",
       "    </tr>\n",
       "    <tr>\n",
       "      <th>1</th>\n",
       "      <td>TRGP.N</td>\n",
       "      <td>Targa Resources Corp</td>\n",
       "      <td>28835.271957</td>\n",
       "      <td>NEW YORK STOCK EXCHANGE, INC.</td>\n",
       "      <td>Energy - Fossil Fuels</td>\n",
       "      <td>17.331302</td>\n",
       "    </tr>\n",
       "    <tr>\n",
       "      <th>2</th>\n",
       "      <td>MUSA.N</td>\n",
       "      <td>Murphy USA Inc</td>\n",
       "      <td>10422.745307</td>\n",
       "      <td>NEW YORK STOCK EXCHANGE, INC.</td>\n",
       "      <td>Energy - Fossil Fuels</td>\n",
       "      <td>26.471766</td>\n",
       "    </tr>\n",
       "  </tbody>\n",
       "</table>\n",
       "</div>"
      ],
      "text/plain": [
       "  Instrument      Company Common Name  Company Market Cap  \\\n",
       "0      TPL.N  Texas Pacific Land Corp        17769.241435   \n",
       "1     TRGP.N     Targa Resources Corp        28835.271957   \n",
       "2     MUSA.N           Murphy USA Inc        10422.745307   \n",
       "\n",
       "                   Exchange Name TRBC Business Sector Name  \\\n",
       "0  NEW YORK STOCK EXCHANGE, INC.     Energy - Fossil Fuels   \n",
       "1  NEW YORK STOCK EXCHANGE, INC.     Energy - Fossil Fuels   \n",
       "2  NEW YORK STOCK EXCHANGE, INC.     Energy - Fossil Fuels   \n",
       "\n",
       "   3 Month Total Return  \n",
       "0             37.395096  \n",
       "1             17.331302  \n",
       "2             26.471766  "
      ]
     },
     "metadata": {},
     "output_type": "display_data"
    }
   ],
   "source": [
    "df = rd.get_data(rics, ['TR.CommonName','TR.CompanyMarketCap(Scale=6)','TR.ExchangeName','TR.TRBCBusinessSector','TR.TotalReturn3Mo'])\n",
    "display(df)"
   ]
  },
  {
   "cell_type": "markdown",
   "id": "bad4091c-7395-470f-bdb7-396d5449a917",
   "metadata": {},
   "source": [
    "### Close the session"
   ]
  },
  {
   "cell_type": "code",
   "execution_count": 7,
   "id": "c362ff16-f1ea-4c27-b99a-297866de4187",
   "metadata": {},
   "outputs": [],
   "source": [
    "rd.close_session()"
   ]
  }
 ],
 "metadata": {
  "kernelspec": {
   "display_name": "Python 3",
   "language": "python",
   "name": "python3"
  },
  "language_info": {
   "codemirror_mode": {
    "name": "ipython",
    "version": 3
   },
   "file_extension": ".py",
   "mimetype": "text/x-python",
   "name": "python",
   "nbconvert_exporter": "python",
   "pygments_lexer": "ipython3",
   "version": "3.8.15"
  },
  "widgets": {
   "application/vnd.jupyter.widget-state+json": {
    "state": {},
    "version_major": 2,
    "version_minor": 0
   }
  }
 },
 "nbformat": 4,
 "nbformat_minor": 5
}
